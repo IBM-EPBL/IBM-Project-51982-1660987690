{
  "nbformat": 4,
  "nbformat_minor": 0,
  "metadata": {
    "colab": {
      "provenance": [],
      "collapsed_sections": []
    },
    "kernelspec": {
      "name": "python3",
      "display_name": "Python 3"
    },
    "language_info": {
      "name": "python"
    }
  },
  "cells": [
    {
      "cell_type": "code",
      "execution_count": 1,
      "metadata": {
        "colab": {
          "base_uri": "https://localhost:8080/"
        },
        "id": "q2TK4lM7G0qi",
        "outputId": "678faa13-d464-4c33-bbc7-7ac30cd0d5c3"
      },
      "outputs": [
        {
          "output_type": "stream",
          "name": "stdout",
          "text": [
            "Mounted at /content/drive\n"
          ]
        }
      ],
      "source": [
        "from google.colab import drive\n",
        "drive.mount('/content/drive')"
      ]
    },
    {
      "cell_type": "code",
      "source": [
        "from keras.models import Sequential\n",
        "from keras.layers import Conv2D\n",
        "from keras.layers import MaxPooling2D\n",
        "from keras.layers import Flatten\n",
        "from keras.layers import Dense\n",
        "from keras.preprocessing.image import ImageDataGenerator\n",
        "from keras.layers import Dropout"
      ],
      "metadata": {
        "id": "l2dGmZdlj0sO"
      },
      "execution_count": 2,
      "outputs": []
    },
    {
      "cell_type": "code",
      "source": [
        "model = Sequential()"
      ],
      "metadata": {
        "id": "_gGdHl5nj_xN"
      },
      "execution_count": 3,
      "outputs": []
    },
    {
      "cell_type": "code",
      "source": [
        "model.add(Conv2D(16, (3, 3), input_shape = (512,512, 3), activation = 'relu'))\n",
        "model.add(MaxPooling2D(pool_size = (2, 2)))"
      ],
      "metadata": {
        "id": "k8T8UD65kJPY"
      },
      "execution_count": 4,
      "outputs": []
    },
    {
      "cell_type": "code",
      "source": [
        "model.add(Conv2D(32, (3, 3), activation = 'relu'))\n",
        "model.add(MaxPooling2D(pool_size = (2, 2)))"
      ],
      "metadata": {
        "id": "u6RvUzFPkMPm"
      },
      "execution_count": 5,
      "outputs": []
    },
    {
      "cell_type": "code",
      "source": [
        "model.add(Conv2D(64, (3, 3), activation = 'relu'))\n",
        "model.add(MaxPooling2D(pool_size = (2, 2)))"
      ],
      "metadata": {
        "id": "kYda8rZZkMSq"
      },
      "execution_count": 6,
      "outputs": []
    },
    {
      "cell_type": "code",
      "source": [
        "model.add(Conv2D(128, (3, 3), activation = 'relu'))\n",
        "model.add(MaxPooling2D(pool_size = (2, 2)))"
      ],
      "metadata": {
        "id": "gL8dTFGUkZB6"
      },
      "execution_count": 7,
      "outputs": []
    },
    {
      "cell_type": "code",
      "source": [
        "model.add(Conv2D(256, (3, 3), activation = 'relu'))\n",
        "model.add(MaxPooling2D(pool_size = (2, 2)))"
      ],
      "metadata": {
        "id": "tkaDyU3Kkdpn"
      },
      "execution_count": 8,
      "outputs": []
    },
    {
      "cell_type": "code",
      "source": [
        "model.add(Conv2D(512, (3, 3), activation = 'relu'))\n",
        "model.add(MaxPooling2D(pool_size = (2, 2)))"
      ],
      "metadata": {
        "id": "J8_F9nl_ke30"
      },
      "execution_count": 9,
      "outputs": []
    },
    {
      "cell_type": "code",
      "source": [
        "model.add(Flatten())"
      ],
      "metadata": {
        "id": "lxoyMAv2km3a"
      },
      "execution_count": 10,
      "outputs": []
    },
    {
      "cell_type": "code",
      "source": [
        "model.summary()"
      ],
      "metadata": {
        "colab": {
          "base_uri": "https://localhost:8080/"
        },
        "id": "tQZ7kMLIkp3Z",
        "outputId": "759bcaa3-acd5-40a1-d272-60ff0524745f"
      },
      "execution_count": 11,
      "outputs": [
        {
          "output_type": "stream",
          "name": "stdout",
          "text": [
            "Model: \"sequential\"\n",
            "_________________________________________________________________\n",
            " Layer (type)                Output Shape              Param #   \n",
            "=================================================================\n",
            " conv2d (Conv2D)             (None, 510, 510, 16)      448       \n",
            "                                                                 \n",
            " max_pooling2d (MaxPooling2D  (None, 255, 255, 16)     0         \n",
            " )                                                               \n",
            "                                                                 \n",
            " conv2d_1 (Conv2D)           (None, 253, 253, 32)      4640      \n",
            "                                                                 \n",
            " max_pooling2d_1 (MaxPooling  (None, 126, 126, 32)     0         \n",
            " 2D)                                                             \n",
            "                                                                 \n",
            " conv2d_2 (Conv2D)           (None, 124, 124, 64)      18496     \n",
            "                                                                 \n",
            " max_pooling2d_2 (MaxPooling  (None, 62, 62, 64)       0         \n",
            " 2D)                                                             \n",
            "                                                                 \n",
            " conv2d_3 (Conv2D)           (None, 60, 60, 128)       73856     \n",
            "                                                                 \n",
            " max_pooling2d_3 (MaxPooling  (None, 30, 30, 128)      0         \n",
            " 2D)                                                             \n",
            "                                                                 \n",
            " conv2d_4 (Conv2D)           (None, 28, 28, 256)       295168    \n",
            "                                                                 \n",
            " max_pooling2d_4 (MaxPooling  (None, 14, 14, 256)      0         \n",
            " 2D)                                                             \n",
            "                                                                 \n",
            " conv2d_5 (Conv2D)           (None, 12, 12, 512)       1180160   \n",
            "                                                                 \n",
            " max_pooling2d_5 (MaxPooling  (None, 6, 6, 512)        0         \n",
            " 2D)                                                             \n",
            "                                                                 \n",
            " flatten (Flatten)           (None, 18432)             0         \n",
            "                                                                 \n",
            "=================================================================\n",
            "Total params: 1,572,768\n",
            "Trainable params: 1,572,768\n",
            "Non-trainable params: 0\n",
            "_________________________________________________________________\n"
          ]
        }
      ]
    },
    {
      "cell_type": "code",
      "source": [
        "model.add(Dense(units = 128, activation = 'relu'))\n",
        "model.add(Dense(units = 1, activation = 'sigmoid'))"
      ],
      "metadata": {
        "id": "wUrsQFs5kwZ4"
      },
      "execution_count": 12,
      "outputs": []
    },
    {
      "cell_type": "code",
      "source": [
        "model.compile(optimizer ='adam', loss = 'binary_crossentropy', metrics = ['accuracy'])"
      ],
      "metadata": {
        "id": "r4qa5tNEk7-7"
      },
      "execution_count": 19,
      "outputs": []
    },
    {
      "cell_type": "code",
      "source": [
        "train_datagen = ImageDataGenerator(rescale = 1./255,\n",
        "                                   shear_range = 0.2,\n",
        "                                   zoom_range = 0.2,\n",
        "                                   horizontal_flip = True)"
      ],
      "metadata": {
        "id": "rNX3RzPFlI9D"
      },
      "execution_count": 14,
      "outputs": []
    },
    {
      "cell_type": "code",
      "source": [
        "val_datagen = ImageDataGenerator(rescale = 1./255)"
      ],
      "metadata": {
        "id": "jFkKYkIHlMnS"
      },
      "execution_count": 15,
      "outputs": []
    },
    {
      "cell_type": "code",
      "source": [
        "training_set = train_datagen.flow_from_directory('/content/drive/MyDrive/LEAF DISEASE/data/train',\n",
        "                                                 target_size = (512,512),\n",
        "                                                 batch_size = 8,\n",
        "                                                 class_mode = 'binary')"
      ],
      "metadata": {
        "colab": {
          "base_uri": "https://localhost:8080/"
        },
        "id": "iuMa97x_lQ7j",
        "outputId": "19e8f76b-55c3-4b13-a66f-5541c6264cb5"
      },
      "execution_count": 16,
      "outputs": [
        {
          "output_type": "stream",
          "name": "stdout",
          "text": [
            "Found 882 images belonging to 2 classes.\n"
          ]
        }
      ]
    },
    {
      "cell_type": "code",
      "source": [
        "val_set = val_datagen.flow_from_directory('/content/drive/MyDrive/LEAF DISEASE/data/val',\n",
        "                                            target_size = (512,512),\n",
        "                                            batch_size = 8,\n",
        "                                            class_mode = 'binary')"
      ],
      "metadata": {
        "colab": {
          "base_uri": "https://localhost:8080/"
        },
        "id": "MdzvspL4lU-r",
        "outputId": "d8f1c7c6-2f64-4224-8b48-eb659e968357"
      },
      "execution_count": 17,
      "outputs": [
        {
          "output_type": "stream",
          "name": "stdout",
          "text": [
            "Found 360 images belonging to 2 classes.\n"
          ]
        }
      ]
    },
    {
      "cell_type": "code",
      "source": [
        "model.fit(training_set,\n",
        "                         steps_per_epoch = 116,\n",
        "                         epochs = 100,\n",
        "                         validation_data = val_set,\n",
        "                         validation_steps = 45)"
      ],
      "metadata": {
        "colab": {
          "base_uri": "https://localhost:8080/"
        },
        "id": "n78olRqelZ5d",
        "outputId": "bd5e82f0-3292-4e7f-cd95-4e72e7964b44"
      },
      "execution_count": 18,
      "outputs": [
        {
          "output_type": "stream",
          "name": "stdout",
          "text": [
            "Epoch 1/100\n",
            "111/116 [===========================>..] - ETA: 11s - loss: 0.7071 - accuracy: 0.6327"
          ]
        },
        {
          "output_type": "stream",
          "name": "stderr",
          "text": [
            "WARNING:tensorflow:Your input ran out of data; interrupting training. Make sure that your dataset or generator can generate at least `steps_per_epoch * epochs` batches (in this case, 11600 batches). You may need to use the repeat() function when building your dataset.\n"
          ]
        },
        {
          "output_type": "stream",
          "name": "stdout",
          "text": [
            "\b\b\b\b\b\b\b\b\b\b\b\b\b\b\b\b\b\b\b\b\b\b\b\b\b\b\b\b\b\b\b\b\b\b\b\b\b\b\b\b\b\b\b\b\b\b\b\b\b\b\b\b\b\b\b\b\b\b\b\b\b\b\b\b\b\b\b\b\b\b\b\b\b\b\b\b\b\b\b\b\b\b\b\b\b\r116/116 [==============================] - 369s 3s/step - loss: 0.7071 - accuracy: 0.6327 - val_loss: 2.0949 - val_accuracy: 0.8000\n"
          ]
        },
        {
          "output_type": "execute_result",
          "data": {
            "text/plain": [
              "<keras.callbacks.History at 0x7ff1d8e88590>"
            ]
          },
          "metadata": {},
          "execution_count": 18
        }
      ]
    },
    {
      "cell_type": "code",
      "source": [
        "model_json = model.to_json()\n",
        "with open(\"model.json\", \"w\") as json_file:\n",
        "    json_file.write(model_json)\n",
        "model.save_weights(\"model.h5\")\n",
        "print(\"Saved model to disk\")"
      ],
      "metadata": {
        "colab": {
          "base_uri": "https://localhost:8080/"
        },
        "id": "jOc28YMvnax1",
        "outputId": "387ebebb-edc7-49e4-b8d3-f3f162b94314"
      },
      "execution_count": 20,
      "outputs": [
        {
          "output_type": "stream",
          "name": "stdout",
          "text": [
            "Saved model to disk\n"
          ]
        }
      ]
    },
    {
      "cell_type": "code",
      "source": [
        "model.save('model.h5')"
      ],
      "metadata": {
        "id": "q8rLnHAlqDqb"
      },
      "execution_count": 22,
      "outputs": []
    },
    {
      "cell_type": "code",
      "source": [
        "import numpy as np\n",
        "from tensorflow.keras.models import load_model\n",
        "from tensorflow.keras.preprocessing import image"
      ],
      "metadata": {
        "id": "z57NkjmtpTDN"
      },
      "execution_count": 21,
      "outputs": []
    },
    {
      "cell_type": "code",
      "source": [
        "model=load_model('model.h5')"
      ],
      "metadata": {
        "id": "DyRDWAk8p9t2"
      },
      "execution_count": 23,
      "outputs": []
    },
    {
      "cell_type": "code",
      "source": [
        "img=image.load_img(r\"/content/drive/MyDrive/LEAF DISEASE/data/train/Corn Healthy/Healthy_10.jpg\")"
      ],
      "metadata": {
        "id": "kOq2P4oWqXQf"
      },
      "execution_count": 24,
      "outputs": []
    },
    {
      "cell_type": "code",
      "source": [
        "img"
      ],
      "metadata": {
        "colab": {
          "base_uri": "https://localhost:8080/",
          "height": 273
        },
        "id": "nvosiyJxqp_0",
        "outputId": "51addca7-a16d-4a07-fc6b-320a34e9b213"
      },
      "execution_count": 25,
      "outputs": [
        {
          "output_type": "execute_result",
          "data": {
            "text/plain": [
              "<PIL.JpegImagePlugin.JpegImageFile image mode=RGB size=256x256 at 0x7FF1D61D0610>"
            ],
            "image/png": "[encoded data removed]"
          },
          "metadata": {},
          "execution_count": 25
        }
      ]
    },
    {
      "cell_type": "code",
      "source": [
        "x=image.img_to_array(img)"
      ],
      "metadata": {
        "id": "Y-6t3uDIq-Ot"
      },
      "execution_count": 26,
      "outputs": []
    },
    {
      "cell_type": "code",
      "source": [
        "x"
      ],
      "metadata": {
        "colab": {
          "base_uri": "https://localhost:8080/"
        },
        "id": "bCuMJ6DQrGMn",
        "outputId": "b7d6925a-c983-4728-b6cc-dd347a7eb86d"
      },
      "execution_count": 27,
      "outputs": [
        {
          "output_type": "execute_result",
          "data": {
            "text/plain": [
              "array([[[118., 135., 103.],\n",
              "        [127., 143., 114.],\n",
              "        [144., 160., 131.],\n",
              "        ...,\n",
              "        [124., 158.,  98.],\n",
              "        [120., 154.,  94.],\n",
              "        [119., 153.,  93.]],\n",
              "\n",
              "       [[116., 133., 101.],\n",
              "        [116., 132., 103.],\n",
              "        [143., 159., 130.],\n",
              "        ...,\n",
              "        [121., 155.,  95.],\n",
              "        [119., 153.,  93.],\n",
              "        [119., 153.,  93.]],\n",
              "\n",
              "       [[119., 136., 104.],\n",
              "        [121., 137., 108.],\n",
              "        [130., 146., 117.],\n",
              "        ...,\n",
              "        [118., 152.,  92.],\n",
              "        [117., 151.,  91.],\n",
              "        [118., 152.,  92.]],\n",
              "\n",
              "       ...,\n",
              "\n",
              "       [[ 11.,  25.,   0.],\n",
              "        [ 19.,  33.,   8.],\n",
              "        [ 22.,  34.,  12.],\n",
              "        ...,\n",
              "        [169., 197., 157.],\n",
              "        [171., 199., 159.],\n",
              "        [173., 201., 161.]],\n",
              "\n",
              "       [[ 20.,  34.,   8.],\n",
              "        [ 21.,  35.,   9.],\n",
              "        [ 24.,  36.,  12.],\n",
              "        ...,\n",
              "        [167., 195., 155.],\n",
              "        [170., 198., 158.],\n",
              "        [173., 201., 161.]],\n",
              "\n",
              "       [[ 18.,  32.,   6.],\n",
              "        [ 11.,  25.,   0.],\n",
              "        [ 13.,  25.,   1.],\n",
              "        ...,\n",
              "        [166., 194., 154.],\n",
              "        [170., 198., 158.],\n",
              "        [172., 200., 160.]]], dtype=float32)"
            ]
          },
          "metadata": {},
          "execution_count": 27
        }
      ]
    },
    {
      "cell_type": "code",
      "source": [
        "x=np.expand_dims(x,axis=0)"
      ],
      "metadata": {
        "id": "7eqe99pnrZNo"
      },
      "execution_count": 29,
      "outputs": []
    },
    {
      "cell_type": "code",
      "source": [
        "x"
      ],
      "metadata": {
        "colab": {
          "base_uri": "https://localhost:8080/"
        },
        "id": "yOLr6uNlrgmp",
        "outputId": "be2cc552-0ed2-45e1-d368-2eaceca7abb7"
      },
      "execution_count": 30,
      "outputs": [
        {
          "output_type": "execute_result",
          "data": {
            "text/plain": [
              "array([[[[118., 135., 103.],\n",
              "         [127., 143., 114.],\n",
              "         [144., 160., 131.],\n",
              "         ...,\n",
              "         [124., 158.,  98.],\n",
              "         [120., 154.,  94.],\n",
              "         [119., 153.,  93.]],\n",
              "\n",
              "        [[116., 133., 101.],\n",
              "         [116., 132., 103.],\n",
              "         [143., 159., 130.],\n",
              "         ...,\n",
              "         [121., 155.,  95.],\n",
              "         [119., 153.,  93.],\n",
              "         [119., 153.,  93.]],\n",
              "\n",
              "        [[119., 136., 104.],\n",
              "         [121., 137., 108.],\n",
              "         [130., 146., 117.],\n",
              "         ...,\n",
              "         [118., 152.,  92.],\n",
              "         [117., 151.,  91.],\n",
              "         [118., 152.,  92.]],\n",
              "\n",
              "        ...,\n",
              "\n",
              "        [[ 11.,  25.,   0.],\n",
              "         [ 19.,  33.,   8.],\n",
              "         [ 22.,  34.,  12.],\n",
              "         ...,\n",
              "         [169., 197., 157.],\n",
              "         [171., 199., 159.],\n",
              "         [173., 201., 161.]],\n",
              "\n",
              "        [[ 20.,  34.,   8.],\n",
              "         [ 21.,  35.,   9.],\n",
              "         [ 24.,  36.,  12.],\n",
              "         ...,\n",
              "         [167., 195., 155.],\n",
              "         [170., 198., 158.],\n",
              "         [173., 201., 161.]],\n",
              "\n",
              "        [[ 18.,  32.,   6.],\n",
              "         [ 11.,  25.,   0.],\n",
              "         [ 13.,  25.,   1.],\n",
              "         ...,\n",
              "         [166., 194., 154.],\n",
              "         [170., 198., 158.],\n",
              "         [172., 200., 160.]]]], dtype=float32)"
            ]
          },
          "metadata": {},
          "execution_count": 30
        }
      ]
    },
    {
      "cell_type": "code",
      "source": [
        "training_set.class_indices"
      ],
      "metadata": {
        "colab": {
          "base_uri": "https://localhost:8080/"
        },
        "id": "pNGayrUXs9Nt",
        "outputId": "23e09ec0-1350-4a9d-848a-4c3b5b178100"
      },
      "execution_count": 32,
      "outputs": [
        {
          "output_type": "execute_result",
          "data": {
            "text/plain": [
              "{'Corn Affected': 0, 'Corn Healthy': 1}"
            ]
          },
          "metadata": {},
          "execution_count": 32
        }
      ]
    }
  ]
}