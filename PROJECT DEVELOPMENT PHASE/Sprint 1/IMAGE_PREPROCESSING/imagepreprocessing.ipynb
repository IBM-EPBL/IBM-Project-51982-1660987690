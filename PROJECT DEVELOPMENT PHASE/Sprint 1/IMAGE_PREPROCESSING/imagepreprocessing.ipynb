{
  "nbformat": 4,
  "nbformat_minor": 0,
  "metadata": {
    "colab": {
      "provenance": [],
      "collapsed_sections": []
    },
    "kernelspec": {
      "name": "python3",
      "display_name": "Python 3"
    },
    "language_info": {
      "name": "python"
    }
  },
  "cells": [
    {
      "cell_type": "code",
      "source": [
        "from google.colab import drive\n",
        "drive.mount('/content/drive')"
      ],
      "metadata": {
        "id": "9SmCrWTvgTDA"
      },
      "execution_count": null,
      "outputs": []
    },
    {
      "cell_type": "code",
      "execution_count": 1,
      "metadata": {
        "id": "pKZWX5hiFy4e"
      },
      "outputs": [],
      "source": [
        "from keras.preprocessing.image import ImageDataGenerator"
      ]
    },
    {
      "cell_type": "code",
      "source": [
        "train_datagen = ImageDataGenerator(rescale = 1./255,\n",
        "                                   shear_range = 0.2,\n",
        "                                   zoom_range = 0.2,\n",
        "                                   horizontal_flip = True)"
      ],
      "metadata": {
        "id": "cQ5o-FLbGBSn"
      },
      "execution_count": 3,
      "outputs": []
    },
    {
      "cell_type": "code",
      "source": [
        "val_datagen = ImageDataGenerator(rescale = 1./255)"
      ],
      "metadata": {
        "id": "1oQxIiTZGxY2"
      },
      "execution_count": 4,
      "outputs": []
    },
    {
      "cell_type": "code",
      "source": [
        "training_set = train_datagen.flow_from_directory('/content/drive/MyDrive/LEAF DISEASE/data/train',\n",
        "                                                 target_size = (512,512),\n",
        "                                                 batch_size = 8,\n",
        "                                                 class_mode = 'binary')\n",
        "val_set = val_datagen.flow_from_directory('/content/drive/MyDrive/LEAF DISEASE/data/val',\n",
        "                                            target_size = (512,512),\n",
        "                                            batch_size = 8,\n",
        "                                            class_mode = 'binary')"
      ],
      "metadata": {
        "colab": {
          "base_uri": "https://localhost:8080/"
        },
        "id": "f7CYxUDOG66s",
        "outputId": "0785c799-8537-494b-82fb-993d5fe42cf7"
      },
      "execution_count": 5,
      "outputs": [
        {
          "output_type": "stream",
          "name": "stdout",
          "text": [
            "Found 882 images belonging to 2 classes.\n",
            "Found 360 images belonging to 2 classes.\n"
          ]
        }
      ]
    },
    {
      "cell_type": "code",
      "source": [
        "x_train = train_datagen.flow_from_directory(r'/content/drive/MyDrive/tomato/train_set')\n",
        "x_test = val_datagen.flow_from_directory('/content/drive/MyDrive/tomato/test_set')"
      ],
      "metadata": {
        "colab": {
          "base_uri": "https://localhost:8080/"
        },
        "id": "btmXZH9hd6h3",
        "outputId": "3d925723-2ca4-4888-db94-8067b19b0bf2"
      },
      "execution_count": 8,
      "outputs": [
        {
          "output_type": "stream",
          "name": "stdout",
          "text": [
            "Found 365 images belonging to 3 classes.\n",
            "Found 110 images belonging to 3 classes.\n"
          ]
        }
      ]
    }
  ]
}