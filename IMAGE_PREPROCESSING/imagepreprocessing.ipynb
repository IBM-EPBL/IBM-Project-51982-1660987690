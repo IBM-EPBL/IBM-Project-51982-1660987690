{
  "nbformat": 4,
  "nbformat_minor": 0,
  "metadata": {
    "colab": {
      "provenance": []
    },
    "kernelspec": {
      "name": "python3",
      "display_name": "Python 3"
    },
    "language_info": {
      "name": "python"
    }
  },
  "cells": [
    {
      "cell_type": "code",
      "execution_count": 1,
      "metadata": {
        "id": "pKZWX5hiFy4e"
      },
      "outputs": [],
      "source": [
        "from keras.preprocessing.image import ImageDataGenerator"
      ]
    },
    {
      "cell_type": "code",
      "source": [
        "train_datagen = ImageDataGenerator (rescale = 1./255,shear_range= 0.2,zoom_range= 0.2,horizontal_flip=True,vertical_flip=True)"
      ],
      "metadata": {
        "id": "cQ5o-FLbGBSn"
      },
      "execution_count": 2,
      "outputs": []
    },
    {
      "cell_type": "code",
      "source": [
        "test_datagen = ImageDataGenerator (rescale = 1)"
      ],
      "metadata": {
        "id": "1oQxIiTZGxY2"
      },
      "execution_count": 3,
      "outputs": []
    },
    {
      "cell_type": "code",
      "source": [
        "x_train = train_datagen.flow_from_directory(r'/content/drive/MyDrive/LEAF DISEASE/data')\n",
        "x_test = test_datagen.flow_from_directory(r'/content/drive/MyDrive/LEAF DISEASE/data')"
      ],
      "metadata": {
        "colab": {
          "base_uri": "https://localhost:8080/"
        },
        "id": "f7CYxUDOG66s",
        "outputId": "abce08bb-b064-4fbb-9bba-6a772d547a0e"
      },
      "execution_count": 11,
      "outputs": [
        {
          "output_type": "stream",
          "name": "stdout",
          "text": [
            "Found 1279 images belonging to 4 classes.\n",
            "Found 1279 images belonging to 4 classes.\n"
          ]
        }
      ]
    }
  ]
}