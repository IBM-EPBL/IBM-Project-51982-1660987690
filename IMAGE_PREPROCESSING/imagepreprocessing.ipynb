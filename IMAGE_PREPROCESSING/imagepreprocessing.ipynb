{
  "nbformat": 4,
  "nbformat_minor": 0,
  "metadata": {
    "colab": {
      "provenance": [],
      "collapsed_sections": []
    },
    "kernelspec": {
      "name": "python3",
      "display_name": "Python 3"
    },
    "language_info": {
      "name": "python"
    }
  },
  "cells": [
    {
      "cell_type": "code",
      "execution_count": 7,
      "metadata": {
        "id": "pKZWX5hiFy4e"
      },
      "outputs": [],
      "source": [
        "from keras.preprocessing.image import ImageDataGenerator"
      ]
    },
    {
      "cell_type": "code",
      "source": [
        "train_datagen = ImageDataGenerator (rescale = 1./255,shear_range= 0.2,zoom_range= 0.2,horizontal_flip=True,vertical_flip=True)"
      ],
      "metadata": {
        "id": "cQ5o-FLbGBSn"
      },
      "execution_count": 2,
      "outputs": []
    },
    {
      "cell_type": "code",
      "source": [
        "test_datagen = ImageDataGenerator (rescale = 1)"
      ],
      "metadata": {
        "id": "1oQxIiTZGxY2"
      },
      "execution_count": 3,
      "outputs": []
    },
    {
      "cell_type": "code",
      "source": [
        "x_train = train_datagen.flow_from_directory(r'/content/drive/MyDrive/LEAF DISEASE/data')\n",
        "x_test = test_datagen.flow_from_directory(r'/content/drive/MyDrive/LEAF DISEASE/data')"
      ],
      "metadata": {
        "colab": {
          "base_uri": "https://localhost:8080/"
        },
        "id": "f7CYxUDOG66s",
        "outputId": "66595048-c407-4a69-d05c-223691d38665"
      },
      "execution_count": 8,
      "outputs": [
        {
          "output_type": "stream",
          "name": "stdout",
          "text": [
            "Found 1279 images belonging to 4 classes.\n",
            "Found 1279 images belonging to 4 classes.\n"
          ]
        }
      ]
    },
    {
      "cell_type": "code",
      "source": [
        "x_train = train_datagen.flow_from_directory(r'/content/drive/MyDrive/tomato/train_set')\n",
        "x_test = test_datagen.flow_from_directory('/content/drive/MyDrive/tomato/test_set')"
      ],
      "metadata": {
        "colab": {
          "base_uri": "https://localhost:8080/"
        },
        "id": "btmXZH9hd6h3",
        "outputId": "fa6c564a-8326-4052-cbf3-8a8477c4139f"
      },
      "execution_count": 9,
      "outputs": [
        {
          "output_type": "stream",
          "name": "stdout",
          "text": [
            "Found 365 images belonging to 3 classes.\n",
            "Found 110 images belonging to 3 classes.\n"
          ]
        }
      ]
    }
  ]
}